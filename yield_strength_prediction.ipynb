{
 "cells": [
  {
   "cell_type": "markdown",
   "metadata": {},
   "source": [
    "# Author - V S Hariharan "
   ]
  },
  {
   "cell_type": "markdown",
   "metadata": {},
   "source": [
    "# Solid solution strength"
   ]
  },
  {
   "cell_type": "code",
   "execution_count": 1,
   "metadata": {},
   "outputs": [],
   "source": [
    "import math"
   ]
  },
  {
   "cell_type": "code",
   "execution_count": 2,
   "metadata": {},
   "outputs": [],
   "source": [
    "# Coefficients for Solid solution strength\n",
    "beta_Al=225\n",
    "beta_Co=39.4\n",
    "beta_Cr=337\n",
    "beta_Mo=1015\n",
    "beta_Ti=775"
   ]
  },
  {
   "cell_type": "code",
   "execution_count": 3,
   "metadata": {},
   "outputs": [],
   "source": [
    "# Composition of the alloy in atom fraction - As built\n",
    "c_Al=3.2155E-02\n",
    "c_Co=9.8145E-02\n",
    "c_Cr=2.2248E-01\n",
    "c_Mo=5.1244E-02\n",
    "c_Ti=2.5368E-02"
   ]
  },
  {
   "cell_type": "markdown",
   "metadata": {},
   "source": [
    "$$\\sigma_{ss}=(1-f)(\\sum_{i} (\\beta_i c_i^{1/2})^{2})^{1/2}$$\n",
    "\n",
    "for as-built, we take $f$ as 0 and for aged it is 0.17, calculated from Thermo-Calc"
   ]
  },
  {
   "cell_type": "code",
   "execution_count": 4,
   "metadata": {},
   "outputs": [],
   "source": [
    "f=0.17"
   ]
  },
  {
   "cell_type": "code",
   "execution_count": 5,
   "metadata": {},
   "outputs": [],
   "source": [
    "# Composition of gamma matrix obtained from Thermo-Calc Eqm calculation at 788 C\n",
    "c_age_Al=1.56810E-02\n",
    "c_age_Co=1.11295E-01\n",
    "c_age_Cr=2.65970E-01\n",
    "c_age_Mo=6.15777E-02\n",
    "c_age_Ti=4.46602E-03"
   ]
  },
  {
   "cell_type": "code",
   "execution_count": 6,
   "metadata": {},
   "outputs": [],
   "source": [
    "alist=[beta_Al,beta_Co,beta_Cr,beta_Mo,beta_Ti]\n",
    "clist=[c_Al,c_Co,c_Cr,c_Mo,c_Ti]\n",
    "c_age_list=clist=[c_age_Al,c_age_Co,c_age_Cr,c_age_Mo,c_age_Ti]\n",
    "\n",
    "temp=0\n",
    "temp_age=0\n",
    "for i in range(len(alist)):\n",
    "    temp = temp + (alist[i]*alist[i]*clist[i])\n",
    "    temp_age = temp_age + (alist[i]*alist[i]*c_age_list[i])"
   ]
  },
  {
   "cell_type": "code",
   "execution_count": 7,
   "metadata": {},
   "outputs": [
    {
     "name": "stdout",
     "output_type": "stream",
     "text": [
      "311.91963180633564\n",
      "258.8932943992586\n"
     ]
    }
   ],
   "source": [
    "y_ss = math.sqrt(temp)\n",
    "y_age_ss=(1-f)*math.sqrt(temp_age)\n",
    "print(y_ss)\n",
    "print(y_age_ss)"
   ]
  },
  {
   "cell_type": "markdown",
   "metadata": {},
   "source": [
    "# Grain Boundary strengthening"
   ]
  },
  {
   "cell_type": "markdown",
   "metadata": {},
   "source": [
    "$$\\sigma_D = \\kappa D^{-1/2} $$"
   ]
  },
  {
   "cell_type": "code",
   "execution_count": 8,
   "metadata": {},
   "outputs": [],
   "source": [
    "kappa=370 #MPa/sqrt(mu m)"
   ]
  },
  {
   "cell_type": "code",
   "execution_count": 9,
   "metadata": {},
   "outputs": [],
   "source": [
    "# equivalent circle diameter (from EBSD) in microns\n",
    "d_67=25\n",
    "d_90=29\n",
    "d_137=24"
   ]
  },
  {
   "cell_type": "code",
   "execution_count": 10,
   "metadata": {},
   "outputs": [
    {
     "name": "stdout",
     "output_type": "stream",
     "text": [
      "74.0\n",
      "68.70727512550918\n",
      "75.52593373581466\n"
     ]
    }
   ],
   "source": [
    "y_d_67= kappa*(d_67**-0.5) \n",
    "y_d_90= kappa*(d_90**-0.5)\n",
    "y_d_137= kappa*(d_137**-0.5)\n",
    "\n",
    "print(y_d_67)\n",
    "print(y_d_90)\n",
    "print(y_d_137)"
   ]
  },
  {
   "cell_type": "markdown",
   "metadata": {},
   "source": [
    "# Dislocation Strengthening"
   ]
  },
  {
   "cell_type": "markdown",
   "metadata": {},
   "source": [
    "$$\\sigma_{\\rho} = M\\alpha b G \\sqrt{\\rho}$$"
   ]
  },
  {
   "cell_type": "code",
   "execution_count": 11,
   "metadata": {},
   "outputs": [],
   "source": [
    "# Dislocation Density obtained from EBSD data\n",
    "rho_67=3.2e+14\n",
    "rho_90=3.1e+14\n",
    "rho_137=4.6e+14"
   ]
  },
  {
   "cell_type": "code",
   "execution_count": 12,
   "metadata": {},
   "outputs": [],
   "source": [
    "M=2.2 #Obtained from EBSD\n",
    "G=82 #GPa\n",
    "b=0.248 #nm\n",
    "alpha=0.3"
   ]
  },
  {
   "cell_type": "code",
   "execution_count": 13,
   "metadata": {},
   "outputs": [],
   "source": [
    "y_rho_67=M*alpha*G*b*math.sqrt(rho_67)*1e-6 #Convert N/m2 to MPa\n",
    "y_rho_90=M*alpha*G*b*math.sqrt(rho_90)*1e-6 #Convert N/m2 to MPa\n",
    "y_rho_137=M*alpha*G*b*math.sqrt(rho_137)*1e-6 #Convert N/m2 to MPa"
   ]
  },
  {
   "cell_type": "code",
   "execution_count": 14,
   "metadata": {},
   "outputs": [
    {
     "name": "stdout",
     "output_type": "stream",
     "text": [
      "240.0957419015006\n",
      "236.31447028114044\n",
      "287.8646819060928\n"
     ]
    }
   ],
   "source": [
    "print(y_rho_67)\n",
    "print(y_rho_90)\n",
    "print(y_rho_137)"
   ]
  },
  {
   "cell_type": "markdown",
   "metadata": {},
   "source": [
    "# Precipitation Strengthening"
   ]
  },
  {
   "cell_type": "markdown",
   "metadata": {},
   "source": [
    "$$\\sigma_p = \\frac{M\\gamma_{APB}}{2b}\\frac{l}{\\Lambda + d} $$\n",
    "\n",
    "\\\n",
    "\n",
    "$$l= d , \\text{if} \\quad d<d_m \\\\ l= (d^2 - (d-d_m)^2)^{1/2} , \\text{if} \\quad  d \\geq d_{m} $$\n",
    "\n",
    "\\\n",
    "\n",
    "$$d_m = \\frac{\\mu b^2}{\\gamma_{APB}}$$\n",
    "\n",
    "\\\n",
    "\n",
    "$$\\Lambda = \\text{max}\\{\\lambda, L-l\\}$$\n",
    "\n",
    "\\\n",
    "\n",
    "$$\\lambda=L(\\frac{2T}{d\\gamma_{APB}})^{1/2}$$\n",
    "\n",
    "\\\n",
    "\n",
    "$$T=0.5\\mu b^2$$\n",
    "\n",
    "\\\n",
    "\n",
    "$$L=d(\\frac{\\pi}{6f})^{1/2}$$"
   ]
  },
  {
   "cell_type": "code",
   "execution_count": 15,
   "metadata": {},
   "outputs": [],
   "source": [
    "mu=82 #GPa\n",
    "b=0.248 #nm\n",
    "gamma=0.28 #J/m2\n",
    "d=26 #nm"
   ]
  },
  {
   "cell_type": "code",
   "execution_count": 16,
   "metadata": {},
   "outputs": [],
   "source": [
    "dm=mu*b*b/gamma"
   ]
  },
  {
   "cell_type": "code",
   "execution_count": 17,
   "metadata": {},
   "outputs": [],
   "source": [
    "if d<dm:\n",
    "    l=d\n",
    "else:\n",
    "    l=math.sqrt((d*d)-(d-dm)**2)"
   ]
  },
  {
   "cell_type": "code",
   "execution_count": 18,
   "metadata": {},
   "outputs": [],
   "source": [
    "T=0.5*mu*b*b*1e-9 #N/m"
   ]
  },
  {
   "cell_type": "code",
   "execution_count": 19,
   "metadata": {},
   "outputs": [],
   "source": [
    "L=d*math.sqrt(math.pi/(6*f))"
   ]
  },
  {
   "cell_type": "code",
   "execution_count": 20,
   "metadata": {},
   "outputs": [],
   "source": [
    "lamda=L*math.sqrt(2*T/(1e-9*d*gamma))"
   ]
  },
  {
   "cell_type": "code",
   "execution_count": 21,
   "metadata": {},
   "outputs": [],
   "source": [
    "LL=max(L-l,L)"
   ]
  },
  {
   "cell_type": "code",
   "execution_count": 22,
   "metadata": {},
   "outputs": [
    {
     "name": "stdout",
     "output_type": "stream",
     "text": [
      "428.9914702429991\n"
     ]
    }
   ],
   "source": [
    "y_p=1e3*M*gamma*l/(2*b*(LL+d)) #converts to MPa\n",
    "print(y_p)"
   ]
  },
  {
   "cell_type": "markdown",
   "metadata": {},
   "source": [
    "# Total Yield Strength - Add all the contributions"
   ]
  },
  {
   "cell_type": "code",
   "execution_count": 23,
   "metadata": {},
   "outputs": [],
   "source": [
    "# For As-built\n",
    "y_67= y_ss+y_d_67+y_rho_67\n",
    "y_90= y_ss+y_d_90+y_rho_90\n",
    "y_137= y_ss+y_d_137+y_rho_137"
   ]
  },
  {
   "cell_type": "code",
   "execution_count": 24,
   "metadata": {},
   "outputs": [
    {
     "name": "stdout",
     "output_type": "stream",
     "text": [
      "626.0153737078363\n",
      "616.9413772129852\n",
      "675.3102474482431\n"
     ]
    }
   ],
   "source": [
    "print(y_67)\n",
    "print(y_90)\n",
    "print(y_137)"
   ]
  },
  {
   "cell_type": "code",
   "execution_count": 25,
   "metadata": {},
   "outputs": [],
   "source": [
    "aged_67= y_age_ss+y_d_67+y_rho_67+y_p\n",
    "aged_90= y_age_ss+y_d_90+y_rho_90+y_p\n",
    "aged_137= y_age_ss+y_d_137+y_rho_137+y_p"
   ]
  },
  {
   "cell_type": "code",
   "execution_count": 26,
   "metadata": {},
   "outputs": [
    {
     "name": "stdout",
     "output_type": "stream",
     "text": [
      "1001.9805065437583\n",
      "992.9065100489074\n",
      "1051.2753802841653\n"
     ]
    }
   ],
   "source": [
    "print(aged_67)\n",
    "print(aged_90)\n",
    "print(aged_137)"
   ]
  },
  {
   "cell_type": "code",
   "execution_count": 27,
   "metadata": {},
   "outputs": [
    {
     "name": "stdout",
     "output_type": "stream",
     "text": [
      "4.278994845896596\n",
      "8.465671036649077\n",
      "-2.9436352817443754\n",
      "-0.09795270167415965\n",
      "1.6924247476329286\n",
      "-6.620221124154695\n"
     ]
    }
   ],
   "source": [
    "#Relative Error Percentage\n",
    "y_exp=[654,674,656,1001,1010,986]\n",
    "y_pred=[y_67,y_90,y_137,aged_67,aged_90,aged_137]\n",
    "\n",
    "for i in range(len(y_exp)):\n",
    "    print(100*(y_exp[i]-y_pred[i])/y_exp[i])"
   ]
  },
  {
   "cell_type": "code",
   "execution_count": 28,
   "metadata": {},
   "outputs": [],
   "source": [
    "import matplotlib.pyplot as plt"
   ]
  },
  {
   "cell_type": "code",
   "execution_count": 29,
   "metadata": {},
   "outputs": [],
   "source": [
    "# X axis\n",
    "x=[1,2,3,4,5,6]\n",
    "xlist=['67$^\\circ$ As-built','90$^\\circ$ As-built','137$^\\circ$ As-built','67$^\\circ$ Aged','90$^\\circ$ Aged','137$^\\circ$ Aged']"
   ]
  },
  {
   "cell_type": "code",
   "execution_count": 30,
   "metadata": {},
   "outputs": [],
   "source": [
    "# Y-axis\n",
    "ys=[654,674,656,1001,1010,986]\n",
    "pred=[y_67,y_90,y_137,aged_67,aged_90,aged_137]"
   ]
  },
  {
   "cell_type": "code",
   "execution_count": 31,
   "metadata": {},
   "outputs": [],
   "source": [
    "ys_err=[37,3,13,18,28,28]"
   ]
  },
  {
   "cell_type": "code",
   "execution_count": 32,
   "metadata": {},
   "outputs": [],
   "source": [
    "# Template for paper quality figures\n",
    "plt.rcParams['font.family'] = 'sans-serif'\n",
    "plt.rcParams['font.sans-serif'] = ['Arial']\n",
    "plt.rcParams['font.size'] = 16\n",
    "plt.rcParams['axes.linewidth'] = 1.1\n",
    "plt.rcParams['axes.labelpad'] = 4.0\n",
    "plot_color_cycle = plt.cycler('color', ['000000', '0000FE', 'FE0000', '008001', 'FD8000', '8c564b', \n",
    "                                    'e377c2', '7f7f7f', 'bcbd22', '17becf'])\n",
    "plt.rcParams['axes.prop_cycle'] = plot_color_cycle\n",
    "plt.rcParams.update({\"figure.figsize\" : (10.0,5.0),\n",
    "                 \"figure.subplot.left\" : 0.177, \"figure.subplot.right\" : 0.946,\n",
    "                 \"figure.subplot.bottom\" : 0.156, \"figure.subplot.top\" : 0.965,\n",
    "                 \"axes.autolimit_mode\" : \"round_numbers\",\n",
    "                 \"lines.markersize\" : 10,\n",
    "                 \"lines.markerfacecolor\" : \"none\",\n",
    "                 \"lines.markeredgewidth\"  : 0.8})"
   ]
  },
  {
   "cell_type": "code",
   "execution_count": 33,
   "metadata": {},
   "outputs": [
    {
     "data": {
      "text/plain": [
       "[626.0153737078363,\n",
       " 616.9413772129852,\n",
       " 675.3102474482431,\n",
       " 1001.9805065437583,\n",
       " 992.9065100489074,\n",
       " 1051.2753802841653]"
      ]
     },
     "execution_count": 33,
     "metadata": {},
     "output_type": "execute_result"
    }
   ],
   "source": [
    "pred"
   ]
  },
  {
   "cell_type": "code",
   "execution_count": 34,
   "metadata": {},
   "outputs": [
    {
     "data": {
      "text/plain": [
       "Text(0, 0.5, 'Yield Strength (MPa)')"
      ]
     },
     "execution_count": 34,
     "metadata": {},
     "output_type": "execute_result"
    },
    {
     "name": "stderr",
     "output_type": "stream",
     "text": [
      "findfont: Font family ['sans-serif'] not found. Falling back to DejaVu Sans.\n",
      "findfont: Font family ['sans-serif'] not found. Falling back to DejaVu Sans.\n",
      "findfont: Font family ['sans-serif'] not found. Falling back to DejaVu Sans.\n",
      "findfont: Font family ['sans-serif'] not found. Falling back to DejaVu Sans.\n"
     ]
    },
    {
     "data": {
      "image/png": "[encoded data removed]",
      "text/plain": [
       "<Figure size 720x360 with 1 Axes>"
      ]
     },
     "metadata": {
      "needs_background": "light"
     },
     "output_type": "display_data"
    }
   ],
   "source": [
    "plt.scatter(x,ys,label=\"Experiment\",alpha=0.4,marker=\"o\",linestyle=\"None\")\n",
    "plt.errorbar(x,ys,yerr=ys_err,capsize=4,linestyle=\"None\")\n",
    "plt.plot(x,pred,\"bx\",label=\"Calculation\",markersize=12)\n",
    "plt.xticks(x,xlist,rotation=45,ha=\"right\",fontweight=\"bold\")\n",
    "plt.legend(loc='upper left',\n",
    "          ncol=1, fancybox=True, shadow=True,fontsize=14)\n",
    "plt.ylabel(\"Yield Strength (MPa)\",fontsize=18,fontweight=\"bold\")\n",
    "plt.savefig(\"mech_prop_prediction.jpg\",bbox_inches='tight',dpi=400)"
   ]
  },
  {
   "cell_type": "code",
   "execution_count": null,
   "metadata": {},
   "outputs": [],
   "source": []
  }
 ],
 "metadata": {
  "kernelspec": {
   "display_name": "Python 3",
   "language": "python",
   "name": "python3"
  },
  "language_info": {
   "codemirror_mode": {
    "name": "ipython",
    "version": 3
   },
   "file_extension": ".py",
   "mimetype": "text/x-python",
   "name": "python",
   "nbconvert_exporter": "python",
   "pygments_lexer": "ipython3",
   "version": "3.8.5"
  }
 },
 "nbformat": 4,
 "nbformat_minor": 4
}
